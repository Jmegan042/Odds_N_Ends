{
 "cells": [
  {
   "cell_type": "markdown",
   "metadata": {},
   "source": [
    "# The Basics:\n",
    "* PyQT5 provides a way to link a graphic user interface with basic functions. \n",
    "* It is best to define these functions in a script that is NOT inside the GUI, rather, call the script from the GUI (Keeps things separate in case you break something)\n",
    "* You'll need to make sure you save your qtDesigner file as a .ui file. This way, you can just use the native uic function in pyqt5 without having to convert everything\n",
    "\n",
    "Step 1: Start by importing the function's you'll need. "
   ]
  },
  {
   "cell_type": "code",
   "execution_count": 2,
   "metadata": {},
   "outputs": [],
   "source": [
    "from PyQt5 import QtCore, QtGui, QtWidgets, uic #You can either do it this way, or... \n",
    "#This way. \n",
    "from PyQt5.QtGui import *\n",
    "from PyQt5.QtWidgets import *\n",
    "from PyQt5.QtCore import *\n",
    "from PyQt5 import QtWebEngineWidgets\n",
    "import os\n"
   ]
  },
  {
   "cell_type": "markdown",
   "metadata": {},
   "source": [
    "Step 2: Define your GUI \n",
    "\n",
    "There are a lot of small bits of information, so I'll break it up for explaination and have the full code uninterupted at the end. Don't attempt to run the small chunks, they'll fail like a two way plunger. \n",
    "\n",
    "You'll have to call the window's you'll create classes, which is not too difficult to get your head around. Other than the MADByTE code, I rarely use them. This means that all of the definitions you'll use are within the class, meaning you'll have to keep calling self.function(something) in order to get it to work properly. Additionally, you'll have to consider how the variables are passed from function to class and outside of both. "
   ]
  },
  {
   "cell_type": "code",
   "execution_count": null,
   "metadata": {},
   "outputs": [],
   "source": [
    "class Test_GUI(QMainWindow):\n",
    "    def __init__(self):\n",
    "        super(Test_GUI, self).__init__()\n",
    "        uic.loadUi(os.path.join('ui','Test_GUI.ui'),self)#Change this to the path of your .ui file you created in the GUI.\n",
    "        "
   ]
  },
  {
   "cell_type": "markdown",
   "metadata": {},
   "source": [
    "The .ui file contains all of the information you coded in designer. Make it easy for yourself when you're constructing at GUI by giving the buttons, panels, toggles, and so on usable names. For this GUI, I've created two buttons and named them in Designer as 'Test_Button' and 'Dont_Push_This_Button'. This way, I can keep track of what the button does. \n",
    "\n",
    "To connect these buttons to functions, you first have to define what happens when a button is clicked:\n"
   ]
  },
  {
   "cell_type": "code",
   "execution_count": null,
   "metadata": {},
   "outputs": [],
   "source": [
    "        self.Test_Button.clicked.connect(Test_Button_Function)\n",
    "        self.Dont_Push_This_Button.clicked.connect(Shouldnt_Have_Done_That)\n",
    "        self.Verify_Button.clicked.connect(Verify_Function)\n",
    "        \n",
    "        "
   ]
  },
  {
   "cell_type": "markdown",
   "metadata": {},
   "source": [
    "Once you've attached the functions to the buttons, you'll be ready to actually define those functions. This can be done within the GUI itself, or outside the GUI, depending on your application. As an example, the Shouldnt_Have_Done_That function will use an ouside function, and the Test_Button_Function will keep it in the GUI.\n",
    "\n",
    "The functions themselves should be defined at the same level as the def __init__ so that they don't auto execute when it loads the __init__."
   ]
  },
  {
   "cell_type": "code",
   "execution_count": null,
   "metadata": {},
   "outputs": [],
   "source": [
    "    def Test_Button_Function(self):\n",
    "        print('This test has been successful. Joe is cool.')\n",
    "    def Shouldnt_Have_Done_That(self):\n",
    "        PopUP('Seriously?',\"You shouldn't have done that!\")"
   ]
  },
  {
   "cell_type": "markdown",
   "metadata": {},
   "source": [
    "Since the GUI is meant to be interacted with, you'll likely want to have variables passed from the user to the functions. To do this, simply find the appropriate function for each type of interaction. For text in the \"Some_Text_Box\", this is shown in the next function.\n"
   ]
  },
  {
   "cell_type": "code",
   "execution_count": null,
   "metadata": {},
   "outputs": [],
   "source": [
    "    def Verify_Function(self):\n",
    "        Text_String = self.Some_Text_Box.text()\n",
    "        print(Text_String,'has been verified.')\n",
    "        "
   ]
  },
  {
   "cell_type": "markdown",
   "metadata": {},
   "source": [
    "Once you've defined all the functions the GUI needs to operate, you just have to wrap it up by telling the GUI how to execute everything. This is done at the very end of the script, even if you define new functions outside of the GUI. For instance, we haven't defined the PopUP function yet, so let's do that. "
   ]
  },
  {
   "cell_type": "code",
   "execution_count": null,
   "metadata": {},
   "outputs": [],
   "source": [
    "def PopUP(Type,message):\n",
    "    msg = QMessageBox()\n",
    "    msg.setIcon(QMessageBox.Critical)\n",
    "    msg.setText(message)\n",
    "    msg.setWindowTitle(Type)\n",
    "    msg.exec_()"
   ]
  },
  {
   "cell_type": "markdown",
   "metadata": {},
   "source": [
    "Then wrap it all up with a nice closing chunk of code:"
   ]
  },
  {
   "cell_type": "code",
   "execution_count": null,
   "metadata": {},
   "outputs": [],
   "source": [
    "if __name__ == \"__main__\":\n",
    "    import sys\n",
    "    app = QtWidgets.QApplication(sys.argv)\n",
    "    window = Test_GUI()\n",
    "    window.show()\n",
    "    sys.exit(app.exec_())"
   ]
  },
  {
   "cell_type": "markdown",
   "metadata": {},
   "source": [
    "Putting it all together: "
   ]
  },
  {
   "cell_type": "code",
   "execution_count": 1,
   "metadata": {},
   "outputs": [
    {
     "name": "stdout",
     "output_type": "stream",
     "text": [
      "This test has been successful. Joe is cool.\n",
      "20 has been verified.\n"
     ]
    },
    {
     "ename": "SystemExit",
     "evalue": "0",
     "output_type": "error",
     "traceback": [
      "An exception has occurred, use %tb to see the full traceback.\n",
      "\u001b[1;31mSystemExit\u001b[0m\u001b[1;31m:\u001b[0m 0\n"
     ]
    },
    {
     "name": "stderr",
     "output_type": "stream",
     "text": [
      "C:\\ProgramData\\Anaconda3\\lib\\site-packages\\IPython\\core\\interactiveshell.py:3304: UserWarning: To exit: use 'exit', 'quit', or Ctrl-D.\n",
      "  warn(\"To exit: use 'exit', 'quit', or Ctrl-D.\", stacklevel=1)\n"
     ]
    }
   ],
   "source": [
    "from PyQt5 import QtCore, QtGui, QtWidgets, uic #You can either do it this way, or... \n",
    "#This way. \n",
    "from PyQt5.QtGui import *\n",
    "from PyQt5.QtWidgets import *\n",
    "from PyQt5.QtCore import *\n",
    "from PyQt5 import QtWebEngineWidgets\n",
    "import os\n",
    "\n",
    "class Test_GUI(QMainWindow):\n",
    "    def __init__(self):\n",
    "        super(Test_GUI, self).__init__()\n",
    "        uic.loadUi(os.path.join('ui','Test_GUI.ui'),self)#Change this to the path of your .ui file you created in the GUI.\n",
    "        self.Test_Button.clicked.connect(self.Test_Button_Function)\n",
    "        self.Dont_Push_This_Button.clicked.connect(self.Shouldnt_Have_Done_That)\n",
    "        self.Verify_Button.clicked.connect(self.Verify_Function)\n",
    "    def Test_Button_Function(self):\n",
    "        print('This test has been successful. Joe is cool.')\n",
    "    def Shouldnt_Have_Done_That(self):\n",
    "        PopUP('Seriously?',\"You shouldn't have done that!\")\n",
    "    def Verify_Function(self):\n",
    "        Text_String = self.Some_Text_Box.text()\n",
    "        print(Text_String,'has been verified.')\n",
    "        \n",
    "def PopUP(Type,message):\n",
    "    msg = QMessageBox()\n",
    "    msg.setIcon(QMessageBox.Critical)\n",
    "    msg.setText(message)\n",
    "    msg.setWindowTitle(Type)\n",
    "    msg.exec_()\n",
    "    \n",
    "if __name__ == \"__main__\":\n",
    "    import sys\n",
    "    app = QtWidgets.QApplication(sys.argv)\n",
    "    window = Test_GUI()\n",
    "    window.show()\n",
    "    sys.exit(app.exec_())"
   ]
  },
  {
   "cell_type": "markdown",
   "metadata": {},
   "source": [
    "There's a bunch of other items that you may want to fool around with like setting icon images, or changing background colors, but for the most part, this is the bulk of how to use pyqt5. If you have questions, just drop me a line and I'll help where I can. Google has taught me well, so chances are good that you can find more tips and tricks through other people's mess-ups than I can come up with. You'll also notice that when you launch from a jupyter notebook, you can't launch twice before the kernel crashes. This is normal and is something that I still haven't found a solution for. When you convert it to a .py file, however, this problem negates itself and is not an issue. "
   ]
  },
  {
   "cell_type": "code",
   "execution_count": null,
   "metadata": {},
   "outputs": [],
   "source": []
  }
 ],
 "metadata": {
  "kernelspec": {
   "display_name": "Python 3",
   "language": "python",
   "name": "python3"
  },
  "language_info": {
   "codemirror_mode": {
    "name": "ipython",
    "version": 3
   },
   "file_extension": ".py",
   "mimetype": "text/x-python",
   "name": "python",
   "nbconvert_exporter": "python",
   "pygments_lexer": "ipython3",
   "version": "3.7.3"
  }
 },
 "nbformat": 4,
 "nbformat_minor": 2
}